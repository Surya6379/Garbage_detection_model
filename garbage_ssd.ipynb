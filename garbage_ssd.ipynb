{
 "cells": [
  {
   "cell_type": "code",
   "execution_count": 4,
   "metadata": {},
   "outputs": [],
   "source": [
    "import tensorflow as tf\n",
    "import cv2\n",
    "import time\n",
    "import numpy as np\n",
    "from tensorflow import keras\n",
    "import os\n",
    "import pickle\n",
    "import matplotlib.pyplot as plt\n",
    "from tensorflow.keras.applications.mobilenet_v2 import preprocess_input\n",
    "from tensorflow.keras.preprocessing.image import img_to_array\n",
    "from tensorflow.keras.preprocessing.image import load_img"
   ]
  },
  {
   "cell_type": "code",
   "execution_count": 2,
   "metadata": {},
   "outputs": [],
   "source": [
    "from tensorflow.keras.models import model_from_json\n",
    "json_file = open('model_garbage_arch.json', 'r')\n",
    "loaded_model_json = json_file.read()\n",
    "json_file.close()\n",
    "model = model_from_json(loaded_model_json)\n",
    "model.load_weights(\"model_garbage_weights.h5\")"
   ]
  },
  {
   "cell_type": "code",
   "execution_count": 40,
   "metadata": {},
   "outputs": [
    {
     "name": "stdout",
     "output_type": "stream",
     "text": [
      "INFO:tensorflow:Assets written to: C:\\Users\\Sivaraman\\Desktop\\Py_projects\\garbage_files\\assets\n"
     ]
    }
   ],
   "source": [
    "export_dir = \"C:\\\\Users\\\\Sivaraman\\\\Desktop\\\\Py_projects\\\\garbage_files\"\n",
    "tf.saved_model.save(model,export_dir)"
   ]
  },
  {
   "cell_type": "code",
   "execution_count": 41,
   "metadata": {},
   "outputs": [],
   "source": [
    "converter = tf.lite.TFLiteConverter.from_saved_model(export_dir)"
   ]
  },
  {
   "cell_type": "code",
   "execution_count": 42,
   "metadata": {},
   "outputs": [],
   "source": [
    "converter.optimizations = [tf.lite.Optimize.DEFAULT]"
   ]
  },
  {
   "cell_type": "code",
   "execution_count": 43,
   "metadata": {},
   "outputs": [],
   "source": [
    "img = tf.data.Dataset.from_tensor_slices(testX).batch(1)"
   ]
  },
  {
   "cell_type": "code",
   "execution_count": 44,
   "metadata": {},
   "outputs": [],
   "source": [
    "def rep_data_gen():\n",
    "    for i in img.take(100):\n",
    "            yield [i]"
   ]
  },
  {
   "cell_type": "code",
   "execution_count": 14,
   "metadata": {},
   "outputs": [],
   "source": [
    "def representative_data_gen():\n",
    "    for input_value, _ in test_batch.take(100):\n",
    "        yield [input_value]"
   ]
  },
  {
   "cell_type": "code",
   "execution_count": 45,
   "metadata": {},
   "outputs": [],
   "source": [
    "converter.representative_dataset = rep_data_gen"
   ]
  },
  {
   "cell_type": "code",
   "execution_count": 46,
   "metadata": {},
   "outputs": [],
   "source": [
    "converter.target_spec.supported_ops = [tf.lite.OpsSet.TFLITE_BUILTINS_INT8]"
   ]
  },
  {
   "cell_type": "code",
   "execution_count": 47,
   "metadata": {},
   "outputs": [],
   "source": [
    "tflite_model = converter.convert()\n",
    "tflite_model_file = 'converted_model_garbage.tflite'\n",
    "\n",
    "with open(tflite_model_file, \"wb\") as f:\n",
    "    f.write(tflite_model)"
   ]
  },
  {
   "cell_type": "code",
   "execution_count": 48,
   "metadata": {},
   "outputs": [],
   "source": [
    "labels = ['garbage', 'no garbage']\n",
    "\n",
    "with open('labels.txt', 'w') as f:\n",
    "    f.write('\\n'.join(labels))"
   ]
  },
  {
   "cell_type": "code",
   "execution_count": 6,
   "metadata": {},
   "outputs": [],
   "source": [
    "with open(\"garbage.pickle\",\"rb\") as f:\n",
    "    trainX,trainY,testX,testY = pickle.load(f)"
   ]
  },
  {
   "cell_type": "code",
   "execution_count": 23,
   "metadata": {},
   "outputs": [
    {
     "name": "stdout",
     "output_type": "stream",
     "text": [
      "96.69\n"
     ]
    }
   ],
   "source": [
    "clas = [\"Garbage\",\"No garbage\"]\n",
    "path = \"C:\\\\Users\\\\Sivaraman\\\\Desktop\\\\Datasets\\\\garbage\\\\b3.jfif\"\n",
    "img = load_img(path,target_size=(224,224))\n",
    "re = cv2.imread(path)\n",
    "#img = cv2.resize(img,(224,224))\n",
    "img = img_to_array(img)\n",
    "img = preprocess_input(img)\n",
    "img = np.expand_dims(img,axis=0)\n",
    "last = time.time()\n",
    "pred = model.predict(img)\n",
    "#print(time.time()-last)\n",
    "op=clas[np.argmax(pred)]\n",
    "e = np.argmax(pred)\n",
    "x = round(pred[0][e]*100,2)\n",
    "conf = str(x)+'%'\n",
    "print(x)\n",
    "op = op + '-' + conf\n",
    "if x>80.0:\n",
    "    cv2.putText(re,op,(25,50),cv2.FONT_HERSHEY_SIMPLEX,2,(0,200,0),3)\n",
    "cv2.imshow(\"win\",re)\n",
    "k = cv2.waitKey(0)\n",
    "cv2.destroyAllWindows()"
   ]
  },
  {
   "cell_type": "code",
   "execution_count": 7,
   "metadata": {},
   "outputs": [
    {
     "name": "stdout",
     "output_type": "stream",
     "text": [
      "98.86\n",
      "99.26\n",
      "98.25\n",
      "98.39\n",
      "98.19\n",
      "98.96\n",
      "98.93\n",
      "98.03\n",
      "98.57\n",
      "99.41\n",
      "99.53\n",
      "98.1\n",
      "59.28\n",
      "92.89\n",
      "85.33\n",
      "76.1\n",
      "55.99\n",
      "52.36\n",
      "53.86\n",
      "54.57\n",
      "54.94\n",
      "61.09\n",
      "74.74\n",
      "85.28\n",
      "75.56\n",
      "83.41\n",
      "69.79\n",
      "52.51\n",
      "53.98\n",
      "60.39\n",
      "56.43\n",
      "63.41\n",
      "51.53\n",
      "55.79\n",
      "59.06\n",
      "76.23\n",
      "51.48\n",
      "62.84\n",
      "60.99\n",
      "99.31\n",
      "99.77\n",
      "99.69\n",
      "99.05\n",
      "99.27\n",
      "98.99\n"
     ]
    }
   ],
   "source": [
    "clas = [\"Garbage\",\"No garbage\"]\n",
    "cap = cv2.VideoCapture(0)\n",
    "while True:\n",
    "    ret,img = cap.read()\n",
    "    re = img.copy()\n",
    "    #img = load_img(path,target_size=(224,224))\n",
    "    img = cv2.resize(img,(224,224))\n",
    "    img = img_to_array(img)\n",
    "    img = preprocess_input(img)\n",
    "    img = np.expand_dims(img,axis=0)\n",
    "    last = time.time()\n",
    "    pred = model.predict(img)\n",
    "    #print(time.time()-last)\n",
    "    op=clas[np.argmax(pred)]\n",
    "    e = np.argmax(pred)\n",
    "    x = round(pred[0][e]*100,2)\n",
    "    conf = str(x)+'%'\n",
    "    print(x)\n",
    "    op = op + '-' + conf\n",
    "    if x>50.0:\n",
    "        cv2.putText(re,op,(25,50),cv2.FONT_HERSHEY_SIMPLEX,2,(0,200,0),3)\n",
    "    cv2.imshow(\"win\",re)\n",
    "    k = cv2.waitKey(1)\n",
    "    if k == ord('s'):\n",
    "        break\n",
    "cap.release()\n",
    "cv2.destroyAllWindows()"
   ]
  },
  {
   "cell_type": "code",
   "execution_count": 23,
   "metadata": {},
   "outputs": [
    {
     "name": "stdout",
     "output_type": "stream",
     "text": [
      "60.51\n"
     ]
    }
   ],
   "source": [
    "num = 51\n",
    "img = tf.expand_dims(testX[num],axis=0)\n",
    "pred = model.predict(img)\n",
    "#print(time.time()-last)\n",
    "op=clas[np.argmax(pred)]\n",
    "e = np.argmax(pred)\n",
    "x = round(pred[0][e]*100,2)\n",
    "conf = str(x)+'%'\n",
    "print(x)\n",
    "op = op + '-' + conf\n",
    "if x>50.0:\n",
    "    cv2.putText(testX[num],op,(25,50),cv2.FONT_HERSHEY_SIMPLEX,2,(0,200,0),3)\n",
    "cv2.imshow(\"win\",testX[num])\n",
    "k = cv2.waitKey(0)\n",
    "cv2.destroyAllWindows()"
   ]
  }
 ],
 "metadata": {
  "kernelspec": {
   "display_name": "Python 3.7 (tensorflow)",
   "language": "python",
   "name": "tensorflow"
  },
  "language_info": {
   "codemirror_mode": {
    "name": "ipython",
    "version": 3
   },
   "file_extension": ".py",
   "mimetype": "text/x-python",
   "name": "python",
   "nbconvert_exporter": "python",
   "pygments_lexer": "ipython3",
   "version": "3.7.7"
  }
 },
 "nbformat": 4,
 "nbformat_minor": 4
}
